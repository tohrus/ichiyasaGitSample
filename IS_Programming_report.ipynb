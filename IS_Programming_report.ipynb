{
  "nbformat": 4,
  "nbformat_minor": 0,
  "metadata": {
    "colab": {
      "provenance": [],
      "toc_visible": true
    },
    "kernelspec": {
      "name": "python3",
      "display_name": "Python 3"
    },
    "language_info": {
      "name": "python"
    }
  },
  "cells": [
    {
      "cell_type": "markdown",
      "source": [
        "# Cover section\n",
        "Specify your student ID# and fullname in the cod cell below:\n"
      ],
      "metadata": {
        "id": "W1iB67IIKOKG"
      }
    },
    {
      "cell_type": "code",
      "execution_count": 1,
      "metadata": {
        "colab": {
          "base_uri": "https://localhost:8080/"
        },
        "id": "Jj3tMA1GHoOK",
        "outputId": "3fa81228-887e-47fd-d91b-77a1ad0d51fd"
      },
      "outputs": [
        {
          "output_type": "stream",
          "name": "stdout",
          "text": [
            "2511144 Toru Shirai\n"
          ]
        }
      ],
      "source": [
        "StudentID, GivenName, FamilyName = '87779393', 'Toru', 'Shirai'\n",
        "print(StudentID, GivenName, FamilyName)"
      ]
    },
    {
      "cell_type": "markdown",
      "metadata": {
        "id": "Jxv9GMXd1vsH"
      },
      "source": [
        "# Excercise 1\n",
        "The following code is a program to determine whether a number between 2 and 10 is prime.\n",
        "Write code to do the same without the 'flag' variable by introducing 'break' and 'else' statements (else-on-loop).\n",
        "\n",
        "#### Detailed description:\n",
        "The outer for loop changes the numbers from 2 to 10, and the inner for loop actually determines whether one number is prime or not.\n",
        "The Boolean variable 'flag' is used to determine whether a factor of the number was found in the inner for loop (whether there was a divisible number).\n",
        "\n"
      ]
    },
    {
      "cell_type": "code",
      "metadata": {
        "id": "a1EuJGzV2kSg",
        "outputId": "66feef88-5333-4edc-deee-34e00cf56ad5",
        "colab": {
          "base_uri": "https://localhost:8080/"
        }
      },
      "source": [
        "## SAMPLE\n",
        "for n in range(2, 10):\n",
        "  ## \"flag\" variable will be set True in the inner for loop\n",
        "  flag = False # True:factors found/False:no factor found. Must be ititialized just before starting inner loop\n",
        "  for x in range(2, n):\n",
        "    if n % x == 0 and flag == False: # Condition must be modified to produce output same as above\n",
        "      print(n, 'equals', x, '*', n//x)\n",
        "      flag = True\n",
        "  if not flag:\n",
        "    print(n, 'is a prime number')\n",
        "# end"
      ],
      "execution_count": 2,
      "outputs": [
        {
          "output_type": "stream",
          "name": "stdout",
          "text": [
            "2 is a prime number\n",
            "3 is a prime number\n",
            "4 equals 2 * 2\n",
            "5 is a prime number\n",
            "6 equals 2 * 3\n",
            "7 is a prime number\n",
            "8 equals 2 * 4\n",
            "9 equals 3 * 3\n"
          ]
        }
      ]
    },
    {
      "cell_type": "markdown",
      "source": [
        "To remove the variable flag from this code, it is necessary to escape the loop with a break statement as soon as the factor is found, and only output a prime number finding message if the escape by the break statement does not occur (= using an else statement).\n",
        "\n",
        "***\n",
        "* Save this note locally when you complete your report\n",
        "* Instruction to submit your report will be provided separately."
      ],
      "metadata": {
        "id": "Lm5yJuVKkWUf"
      }
    },
    {
      "cell_type": "code",
      "source": [
        "# ANSWER CELL/回答場所 #\n",
        "# modify this code to produce same output as above:\n",
        "# 上の実行結果と同じになるように、break文とelse文を使って下のコードを修正せよ\n",
        "for n in range(2, 10):\n",
        "  for x in range(2, n):\n",
        "    if n % x == 0:\n",
        "      print(n, 'equals', x, '*', n//x)\n",
        "      break\n",
        "  else:\n",
        "    print(n, 'is a prime number')\n",
        "# end"
      ],
      "metadata": {
        "id": "2dQ3rXB0horG",
        "outputId": "b698f554-6541-4e85-c595-6ac6c4c1927a",
        "colab": {
          "base_uri": "https://localhost:8080/"
        }
      },
      "execution_count": 6,
      "outputs": [
        {
          "output_type": "stream",
          "name": "stdout",
          "text": [
            "2 is a prime number\n",
            "3 is a prime number\n",
            "4 equals 2 * 2\n",
            "5 is a prime number\n",
            "6 equals 2 * 3\n",
            "7 is a prime number\n",
            "8 equals 2 * 4\n",
            "9 equals 3 * 3\n"
          ]
        }
      ]
    },
    {
      "cell_type": "markdown",
      "metadata": {
        "id": "P-gV5ymDz7_3"
      },
      "source": [
        "# Excecise 2\n",
        "Count how many times function fib3 is called when calculating Fib(10) **by addinig reuired statements to the code below**. Also compare that number with number of \"+\" operation occuring fib2 when calculating Fib(10).\n",
        "\n",
        "## Hint:\n",
        " for fib3, increment call_count everytime when fib3 is called\n",
        " for fib2, increment sum_count everytime  when '+' operation is done.\n"
      ]
    },
    {
      "cell_type": "code",
      "metadata": {
        "id": "lvwCiXI_0bWY",
        "outputId": "d3d8766b-4928-4494-b9df-9ac8a825de10",
        "colab": {
          "base_uri": "https://localhost:8080/"
        }
      },
      "source": [
        "call_count = 0 #counter of function call\n",
        "ope_count = 0  #counter of '+' operation\n",
        "\n",
        "### Insert statement line \"call_count +=1\" to appropriate position\n",
        "def fib3(n):\n",
        "    \"\"\"Return a n-th member of Fibonacci series. a recursive version\"\"\"\n",
        "    global call_count #this statement makes outer variable visible\n",
        "    call_count +=1\n",
        "    if n < 2:\n",
        "        return n\n",
        "    else:\n",
        "        return fib3(n-1)+fib3(n-2)\n",
        "#def fib3 end\n",
        "\n",
        "print(\"FIB(10)=\",fib3(10))\n",
        "print(\"Function call count:\",call_count)\n",
        "\n",
        "### Insert statement line \"ope_count +=1\" to appropriate position\n",
        "def fib2(n):  # return Fibonacci series up to n-th\n",
        "    \"\"\"Return a list containing the Fibonacci series up to n.\"\"\"\n",
        "    global ope_count #this statement makes outer variable visible\n",
        "    result = []\n",
        "    len, a, b = 0, 0, 1\n",
        "    while len <= n:\n",
        "        result.append(a) #\n",
        "        a, b, len = b, (a + b), len+1\n",
        "        ope_count +=1\n",
        "    return result\n",
        "#def fib2 end\n",
        "\n",
        "print(\"FIB(10)=\", fib2(10))\n",
        "print(\"Sum operation count:\",ope_count)"
      ],
      "execution_count": 13,
      "outputs": [
        {
          "output_type": "stream",
          "name": "stdout",
          "text": [
            "FIB(10)= 55\n",
            "Function call count: 177\n",
            "FIB(10)= [0, 1, 1, 2, 3, 5, 8, 13, 21, 34, 55]\n",
            "Sum operation count: 11\n"
          ]
        }
      ]
    },
    {
      "cell_type": "markdown",
      "metadata": {
        "id": "FuQXvEBVkWHw"
      },
      "source": [
        "# Exercise 3 (Object-orientation, not mandatory)\n",
        "Let's create a class Student by extending Human class. Please write your code in the cell at bottom.\n"
      ]
    },
    {
      "cell_type": "markdown",
      "metadata": {
        "id": "yBAB31M9k9Jb"
      },
      "source": [
        "## Instructions\n",
        "### 1.Create a subclass \"Student\"\n",
        "The code cell below contains a template code  for Student class. Student objects behave as Human object because all attributes are inherited from Human class.\n",
        "\n",
        "### 2.Add a Learn method to Student class\n",
        "\n",
        "Now, add a new skill to the Student class: **learn( subject )**\n",
        "\n",
        "Subject has string value as a title of studied class.\n",
        "Each student has a list \"sbj\" to store subjects that have already been learned.\n",
        "\n",
        "At first, you need to redefine the constructor method \\_\\_init__ to add initialization of subj at the constructor as follows:\n",
        "```\n",
        "  def __init__(self,name='Anon. Student',wallet=500):\n",
        "    subj = []\n",
        "    super().__init__(name,wallet)\n",
        "```\n",
        "Then let's implement the 'learn' method.\n",
        "\n",
        "Just for a simplicity, you may use \"subj.append(str)\" operation to add a value to subj. You also don't have to check whether appended subject is already in the list or not. You can use redefined \"hello()\" method to confirm the properties (that is already written in the cell).\n",
        "\n",
        "### 3.Add a Teach method to Student class\n",
        "Finally, add another new skill: **teach( st )**.\n",
        "\n",
        "Argument 'st' is a Student object and to be taught by this method. Invocation of \"st1.teach(st2)\" causes copying one value from st1's subj[] to st2's subj[]. Value that have already in st2's subj[] is skipped and different subject will be tried. If copying happens, st2 also gives 10JPY to st1 as reward.\n",
        "\n",
        "Template of the teach method body code may be as follows\n",
        "```\n",
        "  for sb in st1.subj:\n",
        "    if st2.is_newsubj(sb):\n",
        "      st2.learn...\n",
        "      st2.give...\n",
        "      return\n",
        "```\n",
        "You may use following code for method \"is_newsubj\" used above:\n",
        "```\n",
        "  def is_newsubj( sb )\n",
        "    \"\"\" check if subj is not learned \"\"\"\"\n",
        "    for s in self.subj:\n",
        "      if sb == s:\n",
        "        return False #Already learned\n",
        "    # No mach occured\n",
        "    return True\n",
        "\n",
        "```\n",
        "\n"
      ]
    },
    {
      "cell_type": "markdown",
      "metadata": {
        "id": "Ki0uWyedkweB"
      },
      "source": [
        "## Answer Area"
      ]
    },
    {
      "cell_type": "code",
      "metadata": {
        "id": "PDbsgBsw8sOq",
        "outputId": "8e1b5eb9-5e28-432f-d31d-d8e12ebc4727",
        "colab": {
          "base_uri": "https://localhost:8080/"
        }
      },
      "source": [
        "#Modify code in this cell and complete the program (fill <...>)\n",
        "class Human: #Just a copy of the example above to be reused\n",
        "  def __init__(self,name='Anonymous',wallet=1000):\n",
        "    self.name = name\n",
        "    self.wallet = wallet\n",
        "  def hello(self):\n",
        "    print(\"Hello! My name is \", self.name, \". I have \", self.wallet, 'JPY.')\n",
        "  def give(self, p, money):\n",
        "    \"\"\"give money to other\"\"\"\n",
        "    p.receive(money)\n",
        "    self.wallet -= money\n",
        "  def receive(self, money):\n",
        "    \"\"\"recieve money from other\"\"\"\n",
        "    self.wallet += money\n",
        "########################### Modify Below ###########################\n",
        "class Student(Human):\n",
        "  def __init__(self,name='Anon. Student',wallet=500):\n",
        "    ### set additonal attribute subj ###\n",
        "    self.subj = []\n",
        "    ### call original __init__ with provided value of name and wallet\n",
        "    super().__init__(name, wallet) ## fill <...> (parameters) ##Answer3-1##\n",
        "\n",
        "  def learn(self, subject):\n",
        "    ### write a method body to add \"subject\" to the list subj###\n",
        "    self.subj.append(subject) ## fill <...> (append sujbect to list subj) ##Answer3-2##\n",
        "\n",
        "  def hello(self):\n",
        "    # print inherited attributes:\n",
        "    super().hello()\n",
        "    # print added attributes:\n",
        "    print(\"I have learned:\", self.subj, '.')\n",
        "\n",
        "  def teach(self, st):\n",
        "    ### write a method body to transfer one element of the subj[] that is new to student \"st\"###\n",
        "    for sb in self.subj: # check learned subject one by one\n",
        "      if st.is_newsub(sb): # if sb is a new subjecto for st(udent)\n",
        "        # st learns that subject\n",
        "        st.learn(sb)  ## fill <...> (call learn method with specified subject) ##Answer3-3##\n",
        "        # do not forget to let \"st\" to give reward (10JPY) to me (self) when teach is successful.\n",
        "        st.give(self, 10) ## fill <...> (specify parameter to be given 10JPY) ##Answer3-4##\n",
        "        break #teach only one subject then exitloop\n",
        "  def is_newsub( self,sb ):\n",
        "    \"\"\" check if subj is not learned \"\"\"\n",
        "    for s in self.subj:\n",
        "      if sb == s:\n",
        "        return False #Already learned\n",
        "    # No match occured\n",
        "    return True\n",
        "########################### Modify Above ###########################\n",
        "# Below is a test code. Expected result should be:\n",
        "# Hello! My name is  John . I have  500 JPY.\n",
        "# I have learned: ['mathematics', 'history', 'biology', 'programming', 'statistics'] .\n",
        "# Hello! My name is  Jack . I have  500 JPY.\n",
        "# I have learned: ['programming', 'history', 'statistics', 'mathematics', 'biology'] .\n",
        "#\n",
        "john = Student(\"John\")\n",
        "john.learn('mathematics')\n",
        "john.learn('history')\n",
        "john.learn('biology') # mathematics, history, biology\n",
        "\n",
        "jack = Student(\"Jack\")\n",
        "jack.learn('programming')\n",
        "jack.learn('history')\n",
        "jack.learn('statistics') # programming, history, statistics\n",
        "\n",
        "john.teach(jack) #510 490 # programming history, statistics, mathematics\n",
        "\n",
        "jack.teach(john) #500 500 # mathematics, history, biology, programming\n",
        "jack.teach(john) #490 510 # mathematics, history, biology, programming, statistics\n",
        "jack.teach(john) #490 510 (No new subjects for john)\n",
        "\n",
        "john.teach(jack) #500 500 # programming history, statistics, mathematics, biology\n",
        "john.teach(jack) #500 500 (No new subjects for john)\n",
        "\n",
        "for p in (john,jack):\n",
        "  p.hello()\n"
      ],
      "execution_count": 2,
      "outputs": [
        {
          "output_type": "stream",
          "name": "stdout",
          "text": [
            "Hello! My name is  John . I have  490 JPY.\n",
            "I have learned: ['mathematics', 'history', 'biology', 'programming', 'statistics'] .\n",
            "Hello! My name is  Jack . I have  510 JPY.\n",
            "I have learned: ['programming', 'history', 'statistics', 'mathematics'] .\n"
          ]
        }
      ]
    },
    {
      "cell_type": "markdown",
      "source": [
        "---\n",
        "End of the sheet 😉\n"
      ],
      "metadata": {
        "id": "Xh5nP33gNcBn"
      }
    },
    {
      "cell_type": "code",
      "source": [],
      "metadata": {
        "id": "lFOuUd2Wr9pf"
      },
      "execution_count": null,
      "outputs": []
    }
  ]
}